{
 "cells": [
  {
   "cell_type": "code",
   "execution_count": null,
   "metadata": {},
   "outputs": [],
   "source": [
    "5) How you can explore countionus and discrete variables?\n",
    "\n",
    "Discrete variables are countable in a finite amount of time. \n",
    "For example, you can count the change in your pocket. \n",
    "You can count the money in your bank account. \n",
    "You could also count the amount of money in everyone’s bank accounts. \n",
    "It might take you a long time to count that last item, but the point is—it’s still countable.\n",
    "\n",
    "Continuous Variables would (literally) take forever to count. \n",
    "In fact, you would get to “forever” and never finish counting them. \n",
    "For example, take age. You can’t count “age”. Why not? \n",
    "Because it would literally take forever. \n",
    "For example, you could be:\n",
    "25 years, 10 months, 2 days, 5 hours, 4 seconds, 4 milliseconds, 8 nanoseconds, 99 picosends…and so on.\n",
    "\n",
    "  If your variable is “Temperature in Bursa,” how long would it take you to write every possible temperature? \n",
    "    It would take you literally forever:\n",
    "    30°C, 30.1°C , 30.11°C , 30.111°C , 30.1111°C , …\n",
    "\n",
    "If you start counting now and never, ever, ever finish (i.e. the numbers go on and on until infinity), \n",
    "you have what’s called a continuous variable.\n",
    "\n",
    "If your variable is “Number of Planets around a star,” \n",
    "then you can count all of the numbers out (there can’t be an infinite number of planets). \n",
    "That is a discrete variable.\n",
    "\n",
    "\n",
    "\n",
    "\n",
    "\n"
   ]
  }
 ],
 "metadata": {
  "kernelspec": {
   "display_name": "Python 3",
   "language": "python",
   "name": "python3"
  },
  "language_info": {
   "codemirror_mode": {
    "name": "ipython",
    "version": 3
   },
   "file_extension": ".py",
   "mimetype": "text/x-python",
   "name": "python",
   "nbconvert_exporter": "python",
   "pygments_lexer": "ipython3",
   "version": "3.8.5"
  }
 },
 "nbformat": 4,
 "nbformat_minor": 4
}
