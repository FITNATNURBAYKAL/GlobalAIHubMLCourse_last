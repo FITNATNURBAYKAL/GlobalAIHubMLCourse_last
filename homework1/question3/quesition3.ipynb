{
 "cells": [
  {
   "cell_type": "code",
   "execution_count": null,
   "metadata": {},
   "outputs": [],
   "source": [
    "3) What are the test and validation set, and why would you want to use them?\n",
    "The validation set is a set of data, separate from the training set, that is used to validate model during training. \n",
    "This validation process helps give information that may assist us with adjusting our hyperparameters.\n",
    "During training, the model will be classifying each input from the validation set as well. \n",
    "It will be doing this classification based only on what it’s learned about the data it’s being trained on in the training set. \n",
    "The weights will not be updated in the model based on the loss calculated from our validation data.\n",
    "The validation set allows us to see how well the model is generalizing during training."
   ]
  }
 ],
 "metadata": {
  "kernelspec": {
   "display_name": "Python 3",
   "language": "python",
   "name": "python3"
  },
  "language_info": {
   "codemirror_mode": {
    "name": "ipython",
    "version": 3
   },
   "file_extension": ".py",
   "mimetype": "text/x-python",
   "name": "python",
   "nbconvert_exporter": "python",
   "pygments_lexer": "ipython3",
   "version": "3.8.5"
  }
 },
 "nbformat": 4,
 "nbformat_minor": 4
}
