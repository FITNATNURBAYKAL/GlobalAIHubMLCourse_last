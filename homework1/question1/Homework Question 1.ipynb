{
 "cells": [
  {
   "cell_type": "code",
   "execution_count": null,
   "metadata": {},
   "outputs": [],
   "source": [
    "1)How would you define Machine Learning?\n",
    "\n",
    "Machine Learning is  a branch of artificial intelligence that gives computers the ability to learn from data without being explicitly programmed. \n",
    "As the name suggests, it gives the computer what makes it more like humans: the ability to learn. \n",
    "Machine learning is one of the most exciting technologies I've ever heard of as a mechanical engineering student.\n",
    "Machine learning is actively used today, there is no doubt that it will remain effective in the future.\n",
    "    \n"
   ]
  },
  {
   "cell_type": "code",
   "execution_count": null,
   "metadata": {},
   "outputs": [],
   "source": []
  }
 ],
 "metadata": {
  "kernelspec": {
   "display_name": "Python 3",
   "language": "python",
   "name": "python3"
  },
  "language_info": {
   "codemirror_mode": {
    "name": "ipython",
    "version": 3
   },
   "file_extension": ".py",
   "mimetype": "text/x-python",
   "name": "python",
   "nbconvert_exporter": "python",
   "pygments_lexer": "ipython3",
   "version": "3.8.5"
  }
 },
 "nbformat": 4,
 "nbformat_minor": 4
}
